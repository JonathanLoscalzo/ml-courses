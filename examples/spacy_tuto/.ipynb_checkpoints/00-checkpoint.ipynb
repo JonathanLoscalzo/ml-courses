{
 "nbformat": 4,
 "nbformat_minor": 2,
 "metadata": {
  "language_info": {
   "name": "python",
   "codemirror_mode": {
    "name": "ipython",
    "version": 3
   }
  },
  "orig_nbformat": 2,
  "file_extension": ".py",
  "mimetype": "text/x-python",
  "name": "python",
  "npconvert_exporter": "python",
  "pygments_lexer": "ipython3",
  "version": 3
 },
 "cells": [
  {
   "cell_type": "code",
   "execution_count": 1,
   "metadata": {},
   "outputs": [],
   "source": [
    "from spacy.lang.es import Spanish"
   ]
  },
  {
   "cell_type": "code",
   "execution_count": 2,
   "metadata": {},
   "outputs": [],
   "source": [
    "nlp = Spanish()"
   ]
  },
  {
   "cell_type": "code",
   "execution_count": 3,
   "metadata": {},
   "outputs": [],
   "source": [
    "doc = nlp(\"Esto es importante! Hay que cuidarse del virus.\")"
   ]
  },
  {
   "cell_type": "code",
   "execution_count": 13,
   "metadata": {},
   "outputs": [
    {
     "name": "stdout",
     "output_type": "stream",
     "text": "<class 'spacy.tokens.token.Token'> <class 'str'> Esto\n<class 'spacy.tokens.token.Token'> <class 'str'> es\n<class 'spacy.tokens.token.Token'> <class 'str'> importante\n<class 'spacy.tokens.token.Token'> <class 'str'> !\n<class 'spacy.tokens.token.Token'> <class 'str'> Hay\n<class 'spacy.tokens.token.Token'> <class 'str'> que\n<class 'spacy.tokens.token.Token'> <class 'str'> cuidarse\n<class 'spacy.tokens.token.Token'> <class 'str'> del\n<class 'spacy.tokens.token.Token'> <class 'str'> virus\n<class 'spacy.tokens.token.Token'> <class 'str'> .\n"
    }
   ],
   "source": [
    "for token in doc:\n",
    "    print(type(token), type(token.text), token.text)\n"
   ]
  },
  {
   "cell_type": "code",
   "execution_count": 15,
   "metadata": {},
   "outputs": [
    {
     "data": {
      "text/plain": "! Hay"
     },
     "execution_count": 15,
     "metadata": {},
     "output_type": "execute_result"
    }
   ],
   "source": [
    "# A Span object is a slice of the document consisting of one or more tokens. It's only a view of the Doc and doesn't contain any data itself.\n",
    "span = doc[3:5]\n",
    "span"
   ]
  },
  {
   "cell_type": "code",
   "execution_count": 17,
   "metadata": {},
   "outputs": [
    {
     "name": "stdout",
     "output_type": "stream",
     "text": "Index:    [0, 1, 2, 3, 4, 5, 6, 7, 8, 9]\nText:     ['Esto', 'es', 'importante', '!', 'Hay', 'que', 'cuidarse', 'del', 'virus', '.']\nis_alpha: [True, True, True, False, True, True, True, True, True, False]\nis_punct: [False, False, False, True, False, False, False, False, False, True]\nlike_num: [False, False, False, False, False, False, False, False, False, False]\n"
    }
   ],
   "source": [
    "#alphabetic characters, whether it's punctuation or whether it resembles a number\n",
    "print('Index:   ', [token.i for token in doc])\n",
    "print('Text:    ', [token.text for token in doc])\n",
    "\n",
    "print('is_alpha:', [token.is_alpha for token in doc])\n",
    "print('is_punct:', [token.is_punct for token in doc])\n",
    "print('like_num:', [token.like_num for token in doc])"
   ]
  },
  {
   "cell_type": "code",
   "execution_count": 18,
   "metadata": {},
   "outputs": [
    {
     "name": "stdout",
     "output_type": "stream",
     "text": "Percentage found: 60\nPercentage found: 4\n"
    }
   ],
   "source": [
    "from spacy.lang.en import English\n",
    "\n",
    "nlp = English()\n",
    "\n",
    "# Process the text\n",
    "doc = nlp(\n",
    "    \"In 1990, more than 60% of people in East Asia were in extreme poverty. \"\n",
    "    \"Now less than 4% are.\"\n",
    ")\n",
    "\n",
    "# Iterate over the tokens in the doc\n",
    "for token in doc:\n",
    "    # Check if the token resembles a number\n",
    "    if token.like_num:\n",
    "        # Get the next token in the document\n",
    "        next_token = doc[token.i + 1]\n",
    "        # Check if the next token's text equals '%'\n",
    "        if next_token.text == \"%\":\n",
    "            print(\"Percentage found:\", token.text)"
   ]
  },
  {
   "cell_type": "code",
   "execution_count": null,
   "metadata": {},
   "outputs": [],
   "source": []
  }
 ]
}